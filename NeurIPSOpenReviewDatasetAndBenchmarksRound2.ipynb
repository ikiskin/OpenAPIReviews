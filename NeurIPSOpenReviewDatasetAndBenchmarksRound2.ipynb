{
  "nbformat": 4,
  "nbformat_minor": 0,
  "metadata": {
    "colab": {
      "name": "NeurIPSOpenReviewDatasetAndBenchmarksRound2.ipynb",
      "provenance": [],
      "include_colab_link": true
    },
    "kernelspec": {
      "name": "python3",
      "display_name": "Python 3"
    }
  },
  "cells": [
    {
      "cell_type": "markdown",
      "metadata": {
        "id": "view-in-github",
        "colab_type": "text"
      },
      "source": [
        "<a href=\"https://colab.research.google.com/github/ikiskin/OpenAPIReviews/blob/master/NeurIPSOpenReviewDatasetAndBenchmarksRound2.ipynb\" target=\"_parent\"><img src=\"https://colab.research.google.com/assets/colab-badge.svg\" alt=\"Open In Colab\"/></a>"
      ]
    },
    {
      "cell_type": "code",
      "metadata": {
        "id": "lmRSVnqlek_m",
        "colab": {
          "base_uri": "https://localhost:8080/",
          "height": 975
        },
        "outputId": "02a952f2-aede-4383-98fb-ab2f647d26a6"
      },
      "source": [
        "!pip install openreview-py pandas matplotlib seaborn"
      ],
      "execution_count": 1,
      "outputs": [
        {
          "output_type": "stream",
          "name": "stdout",
          "text": [
            "Collecting openreview-py\n",
            "  Downloading openreview_py-1.0.23-py2.py3-none-any.whl (274 kB)\n",
            "\u001b[?25l\r\u001b[K     |█▏                              | 10 kB 27.4 MB/s eta 0:00:01\r\u001b[K     |██▍                             | 20 kB 30.0 MB/s eta 0:00:01\r\u001b[K     |███▋                            | 30 kB 33.4 MB/s eta 0:00:01\r\u001b[K     |████▊                           | 40 kB 36.3 MB/s eta 0:00:01\r\u001b[K     |██████                          | 51 kB 37.1 MB/s eta 0:00:01\r\u001b[K     |███████▏                        | 61 kB 39.5 MB/s eta 0:00:01\r\u001b[K     |████████▍                       | 71 kB 32.3 MB/s eta 0:00:01\r\u001b[K     |█████████▌                      | 81 kB 32.7 MB/s eta 0:00:01\r\u001b[K     |██████████▊                     | 92 kB 34.0 MB/s eta 0:00:01\r\u001b[K     |████████████                    | 102 kB 35.7 MB/s eta 0:00:01\r\u001b[K     |█████████████▏                  | 112 kB 35.7 MB/s eta 0:00:01\r\u001b[K     |██████████████▎                 | 122 kB 35.7 MB/s eta 0:00:01\r\u001b[K     |███████████████▌                | 133 kB 35.7 MB/s eta 0:00:01\r\u001b[K     |████████████████▊               | 143 kB 35.7 MB/s eta 0:00:01\r\u001b[K     |█████████████████▉              | 153 kB 35.7 MB/s eta 0:00:01\r\u001b[K     |███████████████████             | 163 kB 35.7 MB/s eta 0:00:01\r\u001b[K     |████████████████████▎           | 174 kB 35.7 MB/s eta 0:00:01\r\u001b[K     |█████████████████████▌          | 184 kB 35.7 MB/s eta 0:00:01\r\u001b[K     |██████████████████████▋         | 194 kB 35.7 MB/s eta 0:00:01\r\u001b[K     |███████████████████████▉        | 204 kB 35.7 MB/s eta 0:00:01\r\u001b[K     |█████████████████████████       | 215 kB 35.7 MB/s eta 0:00:01\r\u001b[K     |██████████████████████████▎     | 225 kB 35.7 MB/s eta 0:00:01\r\u001b[K     |███████████████████████████▍    | 235 kB 35.7 MB/s eta 0:00:01\r\u001b[K     |████████████████████████████▋   | 245 kB 35.7 MB/s eta 0:00:01\r\u001b[K     |█████████████████████████████▉  | 256 kB 35.7 MB/s eta 0:00:01\r\u001b[K     |███████████████████████████████ | 266 kB 35.7 MB/s eta 0:00:01\r\u001b[K     |████████████████████████████████| 274 kB 35.7 MB/s \n",
            "\u001b[?25hRequirement already satisfied: pandas in /usr/local/lib/python3.7/dist-packages (1.1.5)\n",
            "Requirement already satisfied: matplotlib in /usr/local/lib/python3.7/dist-packages (3.2.2)\n",
            "Requirement already satisfied: seaborn in /usr/local/lib/python3.7/dist-packages (0.11.2)\n",
            "Collecting Deprecated\n",
            "  Downloading Deprecated-1.2.13-py2.py3-none-any.whl (9.6 kB)\n",
            "Requirement already satisfied: tqdm in /usr/local/lib/python3.7/dist-packages (from openreview-py) (4.62.3)\n",
            "Collecting setuptools==49.6.0\n",
            "  Downloading setuptools-49.6.0-py3-none-any.whl (803 kB)\n",
            "\u001b[K     |████████████████████████████████| 803 kB 31.4 MB/s \n",
            "\u001b[?25hCollecting tld==0.10\n",
            "  Downloading tld-0.10-py2.py3-none-any.whl (253 kB)\n",
            "\u001b[K     |████████████████████████████████| 253 kB 69.0 MB/s \n",
            "\u001b[?25hRequirement already satisfied: future in /usr/local/lib/python3.7/dist-packages (from openreview-py) (0.16.0)\n",
            "Collecting pycryptodome\n",
            "  Downloading pycryptodome-3.10.4-cp35-abi3-manylinux2010_x86_64.whl (1.9 MB)\n",
            "\u001b[K     |████████████████████████████████| 1.9 MB 65.4 MB/s \n",
            "\u001b[?25hCollecting pylatexenc\n",
            "  Downloading pylatexenc-2.10.tar.gz (162 kB)\n",
            "\u001b[K     |████████████████████████████████| 162 kB 57.5 MB/s \n",
            "\u001b[?25hRequirement already satisfied: requests>=2.18.4 in /usr/local/lib/python3.7/dist-packages (from openreview-py) (2.23.0)\n",
            "Requirement already satisfied: six>=1.9 in /usr/local/lib/python3.7/dist-packages (from tld==0.10->openreview-py) (1.15.0)\n",
            "Requirement already satisfied: certifi>=2017.4.17 in /usr/local/lib/python3.7/dist-packages (from requests>=2.18.4->openreview-py) (2021.5.30)\n",
            "Requirement already satisfied: urllib3!=1.25.0,!=1.25.1,<1.26,>=1.21.1 in /usr/local/lib/python3.7/dist-packages (from requests>=2.18.4->openreview-py) (1.24.3)\n",
            "Requirement already satisfied: idna<3,>=2.5 in /usr/local/lib/python3.7/dist-packages (from requests>=2.18.4->openreview-py) (2.10)\n",
            "Requirement already satisfied: chardet<4,>=3.0.2 in /usr/local/lib/python3.7/dist-packages (from requests>=2.18.4->openreview-py) (3.0.4)\n",
            "Requirement already satisfied: numpy>=1.15.4 in /usr/local/lib/python3.7/dist-packages (from pandas) (1.19.5)\n",
            "Requirement already satisfied: python-dateutil>=2.7.3 in /usr/local/lib/python3.7/dist-packages (from pandas) (2.8.2)\n",
            "Requirement already satisfied: pytz>=2017.2 in /usr/local/lib/python3.7/dist-packages (from pandas) (2018.9)\n",
            "Requirement already satisfied: cycler>=0.10 in /usr/local/lib/python3.7/dist-packages (from matplotlib) (0.10.0)\n",
            "Requirement already satisfied: kiwisolver>=1.0.1 in /usr/local/lib/python3.7/dist-packages (from matplotlib) (1.3.2)\n",
            "Requirement already satisfied: pyparsing!=2.0.4,!=2.1.2,!=2.1.6,>=2.0.1 in /usr/local/lib/python3.7/dist-packages (from matplotlib) (2.4.7)\n",
            "Requirement already satisfied: scipy>=1.0 in /usr/local/lib/python3.7/dist-packages (from seaborn) (1.4.1)\n",
            "Requirement already satisfied: wrapt<2,>=1.10 in /usr/local/lib/python3.7/dist-packages (from Deprecated->openreview-py) (1.12.1)\n",
            "Building wheels for collected packages: pylatexenc\n",
            "  Building wheel for pylatexenc (setup.py) ... \u001b[?25l\u001b[?25hdone\n",
            "  Created wheel for pylatexenc: filename=pylatexenc-2.10-py3-none-any.whl size=136833 sha256=11409db1f1ad2a293cbdcec57b87e3339a8a9d54e3e0398b606358d8f01a7e54\n",
            "  Stored in directory: /root/.cache/pip/wheels/f1/8a/f5/33ee79d4473eb201b519fa40f989b842e373237395a3421f52\n",
            "Successfully built pylatexenc\n",
            "Installing collected packages: tld, setuptools, pylatexenc, pycryptodome, Deprecated, openreview-py\n",
            "  Attempting uninstall: setuptools\n",
            "    Found existing installation: setuptools 57.4.0\n",
            "    Uninstalling setuptools-57.4.0:\n",
            "      Successfully uninstalled setuptools-57.4.0\n",
            "\u001b[31mERROR: pip's dependency resolver does not currently take into account all the packages that are installed. This behaviour is the source of the following dependency conflicts.\n",
            "datascience 0.10.6 requires folium==0.2.1, but you have folium 0.8.3 which is incompatible.\u001b[0m\n",
            "Successfully installed Deprecated-1.2.13 openreview-py-1.0.23 pycryptodome-3.10.4 pylatexenc-2.10 setuptools-49.6.0 tld-0.10\n"
          ]
        },
        {
          "output_type": "display_data",
          "data": {
            "application/vnd.colab-display-data+json": {
              "pip_warning": {
                "packages": [
                  "pkg_resources"
                ]
              }
            }
          },
          "metadata": {}
        }
      ]
    },
    {
      "cell_type": "code",
      "metadata": {
        "id": "_qmSij2me5bX",
        "colab": {
          "base_uri": "https://localhost:8080/",
          "height": 390
        },
        "outputId": "cbea0cdf-3c4b-4934-8c4a-10ce2de2326a"
      },
      "source": [
        "# Code heavily borrowed from openreview-py's examples: https://openreview-py.readthedocs.io/en/latest/examples.html\n",
        "\n",
        "from collections import defaultdict, deque\n",
        "\n",
        "import openreview\n",
        "import io\n",
        "import os\n",
        "import json\n",
        "import statistics\n",
        "import seaborn as sns\n",
        "import matplotlib.pyplot as plt\n",
        "import pandas as pd\n",
        "\n",
        "guest_client = openreview.Client(baseurl='https://api.openreview.net')\n",
        "submissions = openreview.tools.iterget_notes(\n",
        "        guest_client, invitation='NeurIPS.cc/2021/Track/Datasets_and_Benchmarks/Round2/-/Submission')\n",
        "\n",
        "\n",
        "submissions_by_forum = {n.forum: n for n in submissions}\n",
        "print('getting metadata...')\n",
        "# print(submissions_by_forum)\n",
        "# There should be 3 reviews per forum.\n",
        "reviews = openreview.tools.iterget_notes(\n",
        "    guest_client, invitation='NeurIPS.cc/2021/Track/Datasets_and_Benchmarks/Round2/Paper.*/-/Official_Review')\n",
        "reviews_by_forum = defaultdict(list)\n",
        "for review in reviews:\n",
        "    reviews_by_forum[review.forum].append(review)\n",
        "\n",
        "# Build a list of metadata.\n",
        "# For every paper (forum), get the review ratings\n",
        "metadata = []\n",
        "means, medians, all_scores = [], [], []\n",
        "for forum in submissions_by_forum:\n",
        "    forum_reviews = reviews_by_forum[forum]\n",
        "    review_ratings = [n.content['rating'] for n in forum_reviews]\n",
        "    review_scores = []\n",
        "    for score in review_ratings:\n",
        "        idx = score.find(':')\n",
        "        review_scores.append(int(score[:idx]))\n",
        "\n",
        "    for s in review_scores:\n",
        "        all_scores.append(s)\n",
        "    mean = statistics.mean(review_scores)\n",
        "    median = statistics.median(review_scores)\n",
        "    means.append(mean)\n",
        "    medians.append(median)\n",
        "\n",
        "    forum_metadata = {\n",
        "        'forum': forum,\n",
        "        'url': 'https://openreview.net/forum?id=' + forum,\n",
        "        'title': submissions_by_forum[forum].content['title'],\n",
        "        'scores': review_scores,\n",
        "        'avg_score': mean\n",
        "    }\n",
        "    metadata.append(forum_metadata)\n",
        "pd.set_option('display.max_columns', None)\n",
        "pd.set_option('display.max_rows', None)\n",
        "\n",
        "df = pd.DataFrame(metadata)\n",
        "df = df.sort_values(by=['avg_score'], ascending=False)\n",
        "print('Mean: ', statistics.mean(means))\n",
        "print('Medians: ', statistics.mean(medians))\n",
        "sns.distplot(means, kde=False, color='red').set_title('Distribution of Average Scores')\n",
        "sns.despine()"
      ],
      "execution_count": 2,
      "outputs": [
        {
          "output_type": "stream",
          "name": "stdout",
          "text": [
            "getting metadata...\n",
            "Mean:  5.829396325459317\n",
            "Medians:  5.846456692913386\n"
          ]
        },
        {
          "output_type": "stream",
          "name": "stderr",
          "text": [
            "/usr/local/lib/python3.7/dist-packages/seaborn/distributions.py:2619: FutureWarning: `distplot` is a deprecated function and will be removed in a future version. Please adapt your code to use either `displot` (a figure-level function with similar flexibility) or `histplot` (an axes-level function for histograms).\n",
            "  warnings.warn(msg, FutureWarning)\n"
          ]
        },
        {
          "output_type": "display_data",
          "data": {
            "image/png": "[encoded data removed]",
            "text/plain": [
              "<Figure size 432x288 with 1 Axes>"
            ]
          },
          "metadata": {
            "needs_background": "light"
          }
        }
      ]
    },
    {
      "cell_type": "code",
      "metadata": {
        "colab": {
          "base_uri": "https://localhost:8080/"
        },
        "id": "XY0cpG2zLacR",
        "outputId": "9ccb81ce-f1ae-4266-fe60-56563928216b"
      },
      "source": [
        "submissions_by_forum = {n.forum: n for n in submissions}\n",
        "# print('getting metadata...')\n",
        "print(submissions_by_forum)"
      ],
      "execution_count": 3,
      "outputs": [
        {
          "output_type": "stream",
          "name": "stdout",
          "text": [
            "{}\n"
          ]
        }
      ]
    },
    {
      "cell_type": "code",
      "metadata": {
        "id": "hDkBUogSfKAy"
      },
      "source": [
        "def make_clickable(val):\n",
        "    # target _blank to open new window\n",
        "    return '<a target=\"_blank\" href=\"{}\">{}</a>'.format(val, val)\n",
        "df.style.format({'url': make_clickable})\n",
        "df.style.hide_index()\n",
        "df = df.drop(columns=['forum'])\n",
        "df = df.round(2)"
      ],
      "execution_count": 4,
      "outputs": []
    },
    {
      "cell_type": "markdown",
      "metadata": {
        "id": "77fP4Hi_6USH"
      },
      "source": [
        "### Sorted List of Papers"
      ]
    },
    {
      "cell_type": "code",
      "metadata": {
        "id": "cko0RXj2fcBq",
        "colab": {
          "base_uri": "https://localhost:8080/"
        },
        "outputId": "82777030-9718-442b-f85f-a88244f0caea"
      },
      "source": [
        "print(df.to_string())"
      ],
      "execution_count": 5,
      "outputs": [
        {
          "output_type": "stream",
          "name": "stdout",
          "text": [
            "                                             url                                                                                                                                                                           title           scores  avg_score\n",
            "86   https://openreview.net/forum?id=KGeAHDH4njY                                                                                                         Mitigating dataset harms requires stewardship: Lessons from 1000 papers   [8, 8, 10, 10]       9.00\n",
            "9    https://openreview.net/forum?id=zNQBIBKJRkd                                                                                               Reduced, Reused and Recycled: The Life of a  Dataset in Machine Learning Research       [8, 8, 10]       8.67\n",
            "85    https://openreview.net/forum?id=H-d5634yVi                                                                                                                                  Chest ImaGenome Dataset for Clinical Reasoning   [8, 10, 10, 6]       8.50\n",
            "110  https://openreview.net/forum?id=qkcLxoC52kL                                                                                                                 OGB-LSC: A Large-Scale Challenge for Machine Learning on Graphs        [8, 9, 8]       8.33\n",
            "245  https://openreview.net/forum?id=vhjsBtq9OxO                                                                                                                               HumBugDB: A Large-scale Acoustic Mosquito Dataset        [8, 9, 8]       8.33\n",
            "156   https://openreview.net/forum?id=FgYTwJbjbf                                                                                                FFA-IR: Towards an Explainable and Reliable Medical Report Generation Benchmark         [7, 8, 9]       8.00\n",
            "56   https://openreview.net/forum?id=GF9cSKI3A_q                                                                                           Adversarial GLUE: A Multi-Task Benchmark for Robustness Evaluation of Language Models        [8, 8, 8]       8.00\n",
            "142   https://openreview.net/forum?id=jpwGODt2Av                                                                                          Whole Brain Vessel Graphs: A Dataset and Benchmark for Graph Learning and Neuroscience     [6, 9, 8, 9]       8.00\n",
            "159   https://openreview.net/forum?id=udVUN__gFO                                                                                            DEBAGREEMENT: A comment-reply dataset for (dis)agreement detection in online debates     [7, 8, 9, 7]       7.75\n",
            "162   https://openreview.net/forum?id=Q9SKS5k8io                                                                                                                          WRENCH: A Comprehensive Benchmark for Weak Supervision     [6, 8, 9, 8]       7.75\n",
            "103  https://openreview.net/forum?id=7Bywt2mQsCe                                                                                                                    Measuring Mathematical Problem Solving With the MATH Dataset        [6, 8, 9]       7.67\n",
            "227  https://openreview.net/forum?id=MAWgLrYvMs0                                                                                      The CPD Data Set: Personnel, Use of Force, and Complaints in the Chicago Police Department        [8, 7, 8]       7.67\n",
            "143  https://openreview.net/forum?id=JtjzUXPEaCu                                                                                                                      CropHarvest: A global dataset for crop-type classification        [8, 8, 7]       7.67\n",
            "209  https://openreview.net/forum?id=wCu6T5xFjeJ                                                                                        BEIR: A Heterogeneous Benchmark for Zero-shot Evaluation of Information Retrieval Models     [8, 9, 5, 8]       7.50\n",
            "166  https://openreview.net/forum?id=uXa9oBDZ9V1                                                                                        IconQA: A New Benchmark for Abstract Diagram Understanding and Visual Language Reasoning        [9, 6, 7]       7.33\n",
            "234  https://openreview.net/forum?id=QzNHE7QHhut                                                                                    The Tufts fNIRS to Mental Workload Dataset: Toward Brain-Computer Interfaces that Generalize        [6, 9, 7]       7.33\n",
            "235  https://openreview.net/forum?id=fgFBtYgJQX_                                                                                                     Isaac Gym: High Performance GPU Based Physics Simulation For Robot Learning        [7, 8, 7]       7.33\n",
            "185  https://openreview.net/forum?id=b3Zoeq2sCLq                                                                                                   KeSpeech: An Open Source Speech Dataset of Mandarin and Its Eight Subdialects        [7, 7, 8]       7.33\n",
            "187  https://openreview.net/forum?id=zQIvkXHS_U5                                                                                           ManiSkill: Generalizable Manipulation Skill Benchmark with Large-Scale Demonstrations        [7, 8, 7]       7.33\n",
            "31   https://openreview.net/forum?id=IfzTefIU_3j                                                                                                                     Occluded Video Instance Segmentation: Dataset and Challenge        [8, 7, 7]       7.33\n",
            "126  https://openreview.net/forum?id=enYjtbjYJrf                                                                                                   Chaos as an interpretable benchmark for forecasting and data-driven modelling     [7, 6, 8, 8]       7.25\n",
            "163  https://openreview.net/forum?id=jI_BbL-qjJN                                                                                                An Information Retrieval Approach to Building Datasets for Hate Speech Detection     [5, 8, 9, 7]       7.25\n",
            "68    https://openreview.net/forum?id=c20jiJ5K2H                                                                                                                                                Multilingual Spoken Words Corpus     [7, 8, 7, 7]       7.25\n",
            "115   https://openreview.net/forum?id=SSKZPJCt7B                                                                                                                    RobustBench: a standardized adversarial robustness benchmark     [8, 7, 7, 7]       7.25\n",
            "40   https://openreview.net/forum?id=O24OhmqpJtP                                                                                                  HPO-B: A Large-Scale Reproducible Benchmark for Black-Box HPO based on OpenML   [6, 7, 8, 8, 6]       7.00\n",
            "95    https://openreview.net/forum?id=gN35BGa1Rt                                                                                              A sandbox for prediction and integration of DNA, RNA, and proteins in single cells        [8, 7, 6]       7.00\n",
            "177  https://openreview.net/forum?id=Fkpr2RYDvI1                                                                                                                      SynthBio: A Case Study in Faster Curation of Text Datasets     [7, 7, 7, 7]       7.00\n",
            "218  https://openreview.net/forum?id=rH8yliN6C83                                                                                                                      AP-10K: A Benchmark for Animal Pose Estimation in the Wild     [7, 7, 7, 7]       7.00\n",
            "226   https://openreview.net/forum?id=mbW_GT3ZN-                                                                                                                CREAK: A Dataset for Commonsense Reasoning over Entity Knowledge        [7, 8, 6]       7.00\n",
            "116  https://openreview.net/forum?id=jyd4Lyjr2iB                                                                                                     Benchmarking Bayesian Deep Learning on Diabetic Retinopathy Detection Tasks        [7, 7, 7]       7.00\n",
            "206  https://openreview.net/forum?id=q-8h8-LZiUm                                                                                                                                  KLUE: Korean Language Understanding Evaluation        [7, 8, 6]       7.00\n",
            "129  https://openreview.net/forum?id=R7vr14ffhF9                                                                                                    Synthetic Benchmarks for Scientific Research in Explainable Machine Learning        [8, 6, 7]       7.00\n",
            "228  https://openreview.net/forum?id=mPducS1MsEK                                                                                               Are We Learning Yet? A Meta Review of Evaluation Failures Across Machine Learning     [7, 7, 5, 9]       7.00\n",
            "160  https://openreview.net/forum?id=YDMFgD_qJuA                                                              SKM-TEA: A Dataset for Accelerated MRI Reconstruction with Dense Image Labels for Quantitative Clinical Evaluation     [9, 6, 6, 7]       7.00\n",
            "153  https://openreview.net/forum?id=9-LSfSU74n-                                                                                                                                A Dataset for Answering Time-Sensitive Questions        [7, 6, 8]       7.00\n",
            "246  https://openreview.net/forum?id=mqxMnOm59m6                                                                                                  The MVTec 3D-AD Dataset for Unsupervised 3D Anomaly Detection and Localization        [6, 6, 9]       7.00\n",
            "242  https://openreview.net/forum?id=Jul-uX7EV_I                                                                                                    SciGen: a Dataset for Reasoning-Aware Text Generation from Scientific Tables     [7, 7, 7, 7]       7.00\n",
            "241  https://openreview.net/forum?id=Ayf90B1yESX                                                                                                The Medkit-Learn(ing) Environment: Medical Decision Modelling through Simulation     [7, 7, 8, 6]       7.00\n",
            "231  https://openreview.net/forum?id=VhIIQBm00VI                                                                                                                  Few-Shot Learning Evaluation in Natural Language Understanding     [7, 6, 8, 7]       7.00\n",
            "149  https://openreview.net/forum?id=701FtuyLlAd                                                                                                                                FS-Mol: A Few-Shot Learning Dataset of Molecules     [6, 7, 8, 7]       7.00\n",
            "147   https://openreview.net/forum?id=-v4OuqNs5P                                                                                          Habitat-Matterport 3D Dataset (HM3D): 1000 Large-scale 3D Environments for Embodied AI        [6, 7, 8]       7.00\n",
            "137   https://openreview.net/forum?id=oJ0oHQtAld                                                                                                                      A Toolbox for Construction and Analysis of Speech Datasets        [6, 7, 8]       7.00\n",
            "181  https://openreview.net/forum?id=NYgt9vcdyjm                                                                                                 GraphGT: Machine Learning Datasets for Deep Graph Generation and Transformation     [6, 7, 7, 7]       6.75\n",
            "170   https://openreview.net/forum?id=TSvj5dmuSd                                                                                           Task Agnostic and Task Specific Self-Supervised Learning from Speech with LeBenchmark     [7, 5, 7, 8]       6.75\n",
            "106  https://openreview.net/forum?id=1k4rJYEwda-                                                                                                HPOBench: A Collection of Reproducible Multi-Fidelity Benchmark Problems for HPO     [7, 7, 7, 6]       6.75\n",
            "20    https://openreview.net/forum?id=rNs2FvJGDK                                                                                                                                DUE: End-to-End Document Understanding Benchmark     [7, 6, 7, 7]       6.75\n",
            "6    https://openreview.net/forum?id=6vZVBkCDrHT                                                                                             CodeNet: A Large-Scale AI for Code Dataset for Learning a Diversity of Coding Tasks     [7, 7, 5, 8]       6.75\n",
            "24   https://openreview.net/forum?id=WcY35wjmCBA                                                                                                                                    Dynamic Environments with Deformable Objects     [7, 6, 7, 7]       6.75\n",
            "69   https://openreview.net/forum?id=gWIbXsrtOCc                                                                                          Systematic Evaluation of Causal Discovery in Visual Model Based Reinforcement Learning     [7, 6, 7, 7]       6.75\n",
            "60   https://openreview.net/forum?id=vKQGe36av4k                                                                                             Argoverse 2.0: Next Generation Datasets for Self-driving Perception and Forecasting     [7, 7, 6, 7]       6.75\n",
            "78   https://openreview.net/forum?id=GEcWUTN1v1v                                                                                     Native Chinese Reader: A Dataset Towards Native-Level Chinese Machine Reading Comprehension        [5, 7, 8]       6.67\n",
            "141  https://openreview.net/forum?id=uKv5inrWeld                                                                                                            Evaluating Bayes Error Estimators on Read-World Datasets with FeeBee        [7, 6, 7]       6.67\n",
            "138  https://openreview.net/forum?id=J4Nl2qRMDrR                                                                                                   ClevrTex: A Texture-Rich Benchmark for Unsupervised Multi-Object Segmentation        [7, 7, 6]       6.67\n",
            "127   https://openreview.net/forum?id=wEc1mgAjU-                                                                                                                                          Monash Time Series Forecasting Archive        [6, 8, 6]       6.67\n",
            "34    https://openreview.net/forum?id=i5MLAHxHXK                                                                                                   DOCKSTRING: easy molecular docking yields better benchmarks for ligand design        [9, 8, 3]       6.67\n",
            "48   https://openreview.net/forum?id=74TZg9gsO8W                                                                                                                     WaveFake: A Data Set to Facilitate Audio Deepfake Detection        [6, 7, 7]       6.67\n",
            "196  https://openreview.net/forum?id=uUa4jNMLjrL                                                          DENETHOR: The DynamicEarthNET dataset for Harmonized, inter-Operable, analysis-Ready, daily crop monitoring from space  [7, 7, 6, 6, 7]       6.60\n",
            "243   https://openreview.net/forum?id=lwrPkQP_is                                                                                                                             URLB: Unsupervised Reinforcement Learning Benchmark  [7, 7, 7, 6, 6]       6.60\n",
            "99   https://openreview.net/forum?id=sD93GOzH3i5                                                                                                                                 Measuring Coding Challenge Competence With APPS     [6, 7, 7, 6]       6.50\n",
            "158  https://openreview.net/forum?id=y2AbfIXgBK3                                                                                               VFP290K: A Large-Scale Benchmark Dataset for Vision-based Fallen Person Detection     [7, 7, 7, 5]       6.50\n",
            "168  https://openreview.net/forum?id=BmglgyN9Lcn                                                                                                                                                  Opening up Open-World Tracking     [5, 9, 5, 7]       6.50\n",
            "27   https://openreview.net/forum?id=woX9uagUQiE  MIND dataset for diet planning and dietary healthcare with machine learning: Dataset creation using combinatorial optimization and controllable generation with domain experts     [7, 6, 7, 6]       6.50\n",
            "1    https://openreview.net/forum?id=79shW3z5Eaq                                                                                                                                      Datasets for Online Controlled Experiments     [6, 7, 7, 6]       6.50\n",
            "119  https://openreview.net/forum?id=zfMtM7HZGLT                                                                                                                    Benchmarks for Corruption Invariant Person Re-identification     [7, 6, 7, 6]       6.50\n",
            "118  https://openreview.net/forum?id=0uQIr4XA77f                                                                                                                                       STEP: Segmenting and Tracking Every Pixel     [9, 5, 7, 5]       6.50\n",
            "33   https://openreview.net/forum?id=p2dMLEwL8tF                                                                                                               FLIP: Benchmark tasks in fitness landscape inference for proteins     [7, 7, 5, 7]       6.50\n",
            "102   https://openreview.net/forum?id=K7ke_GZ_6N                                                                                                                                                      Artsheets for Art Datasets     [7, 5, 7, 7]       6.50\n",
            "88   https://openreview.net/forum?id=FZBtIpEAb5J                                                                         ClimART: A Benchmark Dataset for Emulating Atmospheric Radiative Transfer in Weather and Climate Models     [6, 6, 7, 7]       6.50\n",
            "81   https://openreview.net/forum?id=e82_BlJL43M                                                                                                                             RB2: Robotic Manipulation Benchmarking with a Twist     [7, 7, 5, 7]       6.50\n",
            "80   https://openreview.net/forum?id=-or413Lh_aF                                                                                          Benchmarking Data-driven Surrogate Simulators for Artificial Electromagnetic Materials     [8, 6, 8, 4]       6.50\n",
            "144  https://openreview.net/forum?id=aqCD8RINP54                                                                                                                       RELLISUR: A Real Low-Light Image Super-Resolution Dataset     [7, 5, 7, 7]       6.50\n",
            "190  https://openreview.net/forum?id=cKppD3dNF-m                                                                                              FedScale: Benchmarking Model and System Performance of Federated Learning at Scale     [3, 8, 8, 7]       6.50\n",
            "203  https://openreview.net/forum?id=j6NxpQbREA1                                                                                                                         AI and the Everything in the Whole Wide World Benchmark  [6, 5, 7, 7, 7]       6.40\n",
            "100  https://openreview.net/forum?id=XyDozX3_L4l                                                                                              NATURE: Natural Auxiliary Text Utterances for Realistic Spoken Language Evaluation        [6, 6, 7]       6.33\n",
            "184   https://openreview.net/forum?id=bLBIbVaGDu                                                                                           LoveDA: A Remote Sensing Land-Cover Dataset for Domain Adaptive Semantic Segmentation        [6, 7, 6]       6.33\n",
            "73   https://openreview.net/forum?id=WV0waZz9dTF                                                                                         Constructing a Visual Dataset to Study the Effects of Spatial Apartheid in South Africa        [7, 8, 4]       6.33\n",
            "145  https://openreview.net/forum?id=eZu4BZxlRnX                                                                                                Alchemy: A benchmark and analysis toolkit for meta-reinforcement learning agents        [7, 5, 7]       6.33\n",
            "121  https://openreview.net/forum?id=BlcUQYxknbX                                                                                                                       What Ails One-Shot Image Segmentation: A Data Perspective        [6, 6, 7]       6.33\n",
            "154  https://openreview.net/forum?id=6D45bYP5MRP                                                                                                            CARL: A Benchmark for Contextual and Adaptive Reinforcement Learning        [7, 6, 6]       6.33\n",
            "113  https://openreview.net/forum?id=VLD_w8FNIJK                                                   DrugEHRQA: A Question Answering Dataset on Structured and Unstructured Electronic Health Records For Medicine Related Queries        [8, 8, 3]       6.33\n",
            "202  https://openreview.net/forum?id=hjsJraoqn1Y                                                                            A realistic approach to generate masked faces applied on two novel masked face recognition data sets        [5, 8, 6]       6.33\n",
            "171  https://openreview.net/forum?id=LjjqegBNtPi                                                                                                Seasons in Drift: A Long Term Thermal Imaging Dataset for Studying Concept Drift        [6, 6, 7]       6.33\n",
            "98   https://openreview.net/forum?id=E-NbY1bBUBO                                                                                             LIPS - Learning Industrial physical simulation benchmark suite: the power grid case     [5, 5, 8, 7]       6.25\n",
            "97   https://openreview.net/forum?id=m5rEiGxOGiL                                                                                                      Molecule3D: A Benchmark for Predicting 3D Geometries from Molecular Graphs     [6, 6, 6, 7]       6.25\n",
            "124  https://openreview.net/forum?id=rk1FyzCFe9q                                                                                            WALNUT: A Benchmark on Weakly Supervised Learning for Natural Language Understanding     [6, 5, 6, 8]       6.25\n",
            "30    https://openreview.net/forum?id=5HR3vCylqD                                                                                 SustainBench: Benchmarks for Monitoring the Sustainable Development Goals with Machine Learning     [7, 7, 5, 6]       6.25\n",
            "29    https://openreview.net/forum?id=kBNhgqXatI                                                                                                             An Empirical Investigation of Representation Learning for Imitation     [6, 7, 6, 6]       6.25\n",
            "44   https://openreview.net/forum?id=osfJ3Ac9j9J                                                                                          A Large Scale Benchmark for Individual Treatment Effect Prediction and Uplift Modeling     [6, 7, 7, 5]       6.25\n",
            "83    https://openreview.net/forum?id=FQLzQqGEAH                                                              Really Doing Great at Estimating CATE? A Critical Look at ML Benchmarking Practices in Treatment Effect Estimation     [5, 9, 4, 7]       6.25\n",
            "224  https://openreview.net/forum?id=fnuAjFL7MXy                                                                                                                        Instance-level Recognition for Artworks: The MET Dataset     [7, 7, 5, 6]       6.25\n",
            "26   https://openreview.net/forum?id=qM45LHaWM6E                                                                                                Shifts: A Dataset of Real Distributional Shift Across Multiple Large-Scale Tasks     [7, 6, 5, 7]       6.25\n",
            "252  https://openreview.net/forum?id=QVeMBoRXAo_                                                                                         WikiChurches: A Fine-Grained Dataset of Architectural Styles with Real-World Challenges     [6, 6, 5, 8]       6.25\n",
            "45   https://openreview.net/forum?id=cXCZnLjDm4s                                                                                                            Trust, but Verify: Cross-Modality Fusion for HD Map Change Detection     [7, 7, 6, 5]       6.25\n",
            "77   https://openreview.net/forum?id=clswvAQubeR                                                     Graphein - a Python Library for Geometric Deep Learning and Network Analysis on Protein Structures and Interaction Networks     [5, 7, 8, 5]       6.25\n",
            "217   https://openreview.net/forum?id=rjYOX6y1HF                                                                                                       DeepCell Foundry: Machine Learning Infrastructure for Single-Cell Biology     [7, 4, 7, 7]       6.25\n",
            "167  https://openreview.net/forum?id=TAXFsg6ZaOl                                                                                                                    FakeAVCeleb: A Novel Audio-Video Multimodal Deepfake Dataset     [6, 7, 6, 6]       6.25\n",
            "122   https://openreview.net/forum?id=UuUbIYnHKO                                                                                                                                An Empirical Study of Graph Contrastive Learning  [7, 7, 4, 7, 6]       6.20\n",
            "123  https://openreview.net/forum?id=eLYinD0TtIt                                                                                   Pl@ntNet-300K: a plant image dataset with high label ambiguity and a long-tailed distribution     [5, 6, 7, 6]       6.00\n",
            "18   https://openreview.net/forum?id=OFiGmksrSz1                                                                                                                         SegmentMeIfYouCan: A Benchmark for Anomaly Segmentation     [7, 6, 6, 5]       6.00\n",
            "62   https://openreview.net/forum?id=G1muTb5zuO7                                                                                                                What Would Jiminy Cricket Do? Towards Agents That Behave Morally     [8, 5, 4, 7]       6.00\n",
            "32   https://openreview.net/forum?id=9KArJb4r5ZQ                                                                                                     COVID-19 Sounds: A Large-Scale Audio Dataset for Digital COVID-19 Detection     [4, 7, 8, 5]       6.00\n",
            "47   https://openreview.net/forum?id=tuRCtyHXmQJ                                                                                                                       MINERVAS: Massive INterior EnviRonments VirtuAl Synthesis     [6, 6, 6, 6]       6.00\n",
            "125  https://openreview.net/forum?id=9fCQAd2NZmb                                                                                      LTRCsum: Telugu Human-annotated Abstractive Summarization Corpus Collection and Evaluation     [6, 7, 5, 6]       6.00\n",
            "128   https://openreview.net/forum?id=8Y50dBbmGU                                                                                  CSFCube - A Test Collection of Computer Science Research Articles for Faceted Query by Example     [8, 4, 7, 5]       6.00\n",
            "19   https://openreview.net/forum?id=Gln7zxMffae                                                                                                     Relational Pattern Benchmarking on the Knowledge Graph Link Prediction Task     [7, 4, 6, 7]       6.00\n",
            "131  https://openreview.net/forum?id=MQlMIrm3Hv5                                                                                                      Benchmarking the Robustness of Spatial-Temporal Models Against Corruptions     [7, 8, 3, 6]       6.00\n",
            "173  https://openreview.net/forum?id=vEdGQZ5nzZ3                                                                                       PSML: A Multi-scale Time-series Dataset for Machine Learning in Decarbonized Energy Grids        [7, 5, 6]       6.00\n",
            "28   https://openreview.net/forum?id=_wKgcs0KkhE                                                                                               A Novel Abnormality Annotation Database for COVID-19 Affected Frontal Lung X-rays        [6, 6, 6]       6.00\n",
            "136  https://openreview.net/forum?id=uSN21elwfNF                                                                       PubTables-1M: Towards a universal dataset and metrics for training and evaluating table extraction models     [6, 6, 6, 6]       6.00\n",
            "21   https://openreview.net/forum?id=-W0LCm8wE2S                                                                            Braxlines: Fast and Interactive Toolkit for RL-driven Behavior Generation Beyond Reward Maximization        [7, 5, 6]       6.00\n",
            "148  https://openreview.net/forum?id=Y6sH0l4PExm                                                                                                               Intelligent Sight and Sound: A Chronic Cancer Facial Pain Dataset     [5, 7, 6, 6]       6.00\n",
            "11   https://openreview.net/forum?id=wu1qmnC32fB                                                                                   Robust$\\mathcal{ART}$: Benchmarking Robustness on Architecture Design and Training Techniques     [6, 6, 7, 5]       6.00\n",
            "92    https://openreview.net/forum?id=NxWUnvwFV4                                                                                   Graph Robustness Benchmark: Benchmarking the Adversarial Robustness of Graph Machine Learning        [7, 7, 4]       6.00\n",
            "193  https://openreview.net/forum?id=9YyNOthj5Ex                                                                                         MetaDrive: Composing Diverse Driving Scenarios for Generalizable Reinforcement Learning     [7, 7, 5, 5]       6.00\n",
            "84   https://openreview.net/forum?id=Fr_KF_lMCMr                                                                                         CORA: Benchmarks, Baselines, and a Platform for Continual Reinforcement Learning Agents     [5, 6, 6, 7]       6.00\n",
            "182  https://openreview.net/forum?id=tyn3MYS_uDT                                                                                      Open Bandit Dataset and Pipeline: Towards Realistic and Reproducible Off-Policy Evaluation        [6, 6, 6]       6.00\n",
            "189  https://openreview.net/forum?id=Y9-3zXGunKa                                                                          SeasonDepth: Cross-Season Monocular Depth Prediction Dataset and Benchmark under Multiple Environments        [6, 4, 8]       6.00\n",
            "41   https://openreview.net/forum?id=gUvl0Q40ryO                                                                                                           FHIST: A Benchmark for Few-shot Classification of Histological Images        [7, 7, 4]       6.00\n",
            "49   https://openreview.net/forum?id=rKuaz6Sw6xB                                                                                                                                       Phy-Q: A Benchmark for Physical Reasoning        [5, 6, 7]       6.00\n",
            "96   https://openreview.net/forum?id=DjzPaX8AT0z                                                                                                                                    A Channel Coding Benchmark for Meta-Learning        [7, 6, 5]       6.00\n",
            "89    https://openreview.net/forum?id=Icw5sf_3g7                                                                                        Bag of Tricks for Training Deeper Graph Neural Networks: A Comprehensive Benchmark Study     [7, 6, 5, 6]       6.00\n",
            "179  https://openreview.net/forum?id=ByiVJWsHVKc                                                                                  SODA10M: A Large-Scale 2D Self/Semi-Supervised Object Detection Dataset for Autonomous Driving     [6, 7, 4, 7]       6.00\n",
            "186  https://openreview.net/forum?id=vzb0f0TIVlI                                                                                    A Bilingual, OpenWorld Video Text Dataset and End-to-end Video Text Spotter with Transformer     [6, 6, 5, 7]       6.00\n",
            "52    https://openreview.net/forum?id=NfTU-wN8Uo                                                                           $\\texttt{RP-Mod}\\ \\&\\ \\texttt{RP-Crowd:}$ Moderator- and Crowd-Annotated German News Comment Datasets     [6, 6, 6, 6]       6.00\n",
            "239  https://openreview.net/forum?id=bNL5VlTfe3p                                                                                        Hardware Design and Accurate Simulation for Benchmarking of 3D Reconstruction Algorithms        [6, 6, 6]       6.00\n",
            "194  https://openreview.net/forum?id=pX4x8f6Km5T                                                                                  Benchmarking the Combinatorial Generalizability of Complex Query Answering on Knowledge Graphs     [6, 6, 6, 6]       6.00\n",
            "25   https://openreview.net/forum?id=9NNGYHiKVOt                                                                                                 The Food Recognition Benchmark:  Using DeepLearning to Recognize Food in Images     [5, 6, 4, 8]       5.75\n",
            "172  https://openreview.net/forum?id=ngcnOrmZwO2                                                                                                                  Zero-Shot Compositional Policy Learning via Language Grounding     [6, 5, 4, 8]       5.75\n",
            "188  https://openreview.net/forum?id=SI3p_hMHuAL                                                                                                                                           Breaking Beyond COCO Object Detection     [6, 6, 7, 4]       5.75\n",
            "23   https://openreview.net/forum?id=Q0zOIaec8HF                                                                                                                Benchmarking Multimodal AutoML for Tabular Data with Text Fields     [6, 6, 5, 6]       5.75\n",
            "57   https://openreview.net/forum?id=BkResqoX0ZX                                                                                                                A Canadian Land Use Dataset for Agricultural Land Classification     [6, 7, 5, 5]       5.75\n",
            "75   https://openreview.net/forum?id=YchYgdvdRcH                                                                                                     FedGraphNN: A Federated Learning Benchmark System for Graph Neural Networks     [6, 7, 5, 5]       5.75\n",
            "112  https://openreview.net/forum?id=0B9ORqdydqB                                                                                                              iShape: A First Step Towards Irregular Shape Instance Segmentation     [5, 6, 7, 5]       5.75\n",
            "42   https://openreview.net/forum?id=bvztbwr_Hrz                                                                                                                                 A Statutory Article Retrieval Dataset in French     [5, 6, 4, 8]       5.75\n",
            "90   https://openreview.net/forum?id=7DEE3XXOUBd                                                                                                            Meta-Album: Multi-domain Benchmark for Few-Shot Image Classification     [5, 5, 8, 5]       5.75\n",
            "111  https://openreview.net/forum?id=h6YRaULThaK                                                                                                        MDP Playground: An Analysis and Debug Testbed for Reinforcement Learning     [5, 6, 5, 7]       5.75\n",
            "93   https://openreview.net/forum?id=43mYF598ZDB                                                                                                                   The CLEAR Benchmark: Continual LEArning on Real-World Imagery     [5, 5, 6, 7]       5.75\n",
            "39    https://openreview.net/forum?id=OCrD8ycKjG                                                                                                                                                      OpenML Benchmarking Suites     [6, 8, 5, 4]       5.75\n",
            "65   https://openreview.net/forum?id=KVMS3fl4Rsv                                                                                   Neural Latents Benchmark ‘21: Evaluating latent variable models of neural population activity     [4, 7, 5, 7]       5.75\n",
            "175   https://openreview.net/forum?id=zi4crYfr3I                                                                                                                   Node Classification Meets Link Prediction on Knowledge Graphs     [8, 6, 5, 4]       5.75\n",
            "250  https://openreview.net/forum?id=MstfOgdU3QP                                                                                                                             CatLC: Catalonia Multiresolution Land Cover Dataset     [5, 6, 6, 6]       5.75\n",
            "105  https://openreview.net/forum?id=uce6UK2fW4O                                                                                                RLDS: an Ecosystem to Generate, Share and Use Datasets in Reinforcement Learning     [6, 7, 6, 4]       5.75\n",
            "53   https://openreview.net/forum?id=15UnJrBjh_L                                                                                        V2X-Sim: A Virtual Collaborative Perception Dataset and Benchmark for Autonomous Driving     [5, 5, 6, 7]       5.75\n",
            "4    https://openreview.net/forum?id=RUzBgTQSSvq                                                                                          Capture24: Activity recognition on a large activity tracker data collected in the wild        [6, 4, 7]       5.67\n",
            "152  https://openreview.net/forum?id=1I_4V6Vw-Xs                                                                                                     SMART-Rain: A Degradation Evaluation Dataset for Autonomous Driving in Rain        [6, 4, 7]       5.67\n",
            "223  https://openreview.net/forum?id=DlCpTuf5SGy                                                                Three million images and morphological profiles of cells treated with matched chemical and genetic perturbations        [7, 5, 5]       5.67\n",
            "174  https://openreview.net/forum?id=KWDznTeQtCX                                                                                                              On Predicting and Generating a Good Break Shot in Billiards Sports        [6, 5, 6]       5.67\n",
            "117  https://openreview.net/forum?id=3PCHq772D-7                                                                                                 JS Fake Chorales: a Synthetic Dataset of Polyphonic Music with Human Annotation        [6, 4, 7]       5.67\n",
            "176  https://openreview.net/forum?id=9wTphAR-rhS                                                Age dataset: age of death and other basic information for over 1.22 million historical figures (data, methods, and applications)        [6, 6, 5]       5.67\n",
            "109   https://openreview.net/forum?id=TyZ1_-qAz6                                                                            GIR Dataset: A Geometry and real Impulse Response Dataset for machine learning research in acoustics        [6, 5, 6]       5.67\n",
            "108  https://openreview.net/forum?id=q-0KOLAT6L9                                                                                                                                Adept: A suite for musculoskeletal motor control        [6, 6, 5]       5.67\n",
            "180   https://openreview.net/forum?id=oopd3cAGXE                                                                                                          Full-Cycle Energy Consumption Benchmark for Low-Carbon Computer Vision        [3, 9, 5]       5.67\n",
            "82   https://openreview.net/forum?id=at5mq2EJebX                                                                                                                                          Deep Visual Geo-localization Benchmark        [6, 6, 5]       5.67\n",
            "72   https://openreview.net/forum?id=3eyGihaZ9OY                                                                                                              Simultaneous Navigation and Construction Benchmarking Environments        [5, 6, 6]       5.67\n",
            "215  https://openreview.net/forum?id=RTEjefJFpGX                                                                            VISIOCITY: A New Benchmarking Dataset and Evaluation Framework Towards Realistic Video Summarization        [7, 4, 6]       5.67\n",
            "79    https://openreview.net/forum?id=gZKTMm2Dt5                                                                                               SATBench: A Benchmark of the Human Speed-Accuracy Tradeoff in Recognizing Objects        [6, 5, 6]       5.67\n",
            "51   https://openreview.net/forum?id=TAod04GPjkB                                                                                                     Randomness in Neural Network Training: Characterizing the Impact of Tooling  [6, 4, 6, 6, 6]       5.60\n",
            "219  https://openreview.net/forum?id=WhTTCWsMrYv                                                               The Harvard USPTO Patent Dataset: A Large-Scale, Well-Structured, and Multi-Purpose Corpus of Patent Applications     [7, 5, 6, 4]       5.50\n",
            "0    https://openreview.net/forum?id=1hr5r4fIjaZ                                                                                                        NAS-Bench-360: Benchmarking Diverse Tasks for Neural Architecture Search     [7, 5, 5, 5]       5.50\n",
            "55   https://openreview.net/forum?id=C39Qpk0a_jV                                                                                                        An Instance-Dependent Simulation Framework for Learning with Label Noise     [4, 5, 8, 5]       5.50\n",
            "54   https://openreview.net/forum?id=iKBWpOsAe7Y                                                                                                Towards benchmarking and developing meta-teaching agents that can learn to teach     [5, 5, 6, 6]       5.50\n",
            "2    https://openreview.net/forum?id=myZr4Hx4Cv9                                                                                                    ZeroWaste Dataset: Towards Deformable Object Segmentation in Extreme Clutter     [5, 7, 5, 5]       5.50\n",
            "36   https://openreview.net/forum?id=-0KJY0cwuvW                                                                                      Adversarial Test Set for Image Classification: Lessons Learned from CATS4ML Data Challenge     [5, 5, 6, 6]       5.50\n",
            "35   https://openreview.net/forum?id=ilAgFIIoqkw                                                                                                                 iSpree: A Comprehensive Evaluation Model for Federated Learning     [4, 7, 7, 4]       5.50\n",
            "130  https://openreview.net/forum?id=bgWHz41FMB7                                                                                                                       RAFT: A Real-World Few-Shot Text Classification Benchmark     [5, 6, 6, 5]       5.50\n",
            "139  https://openreview.net/forum?id=zpC_gY22sSt                                                                                                      Effective Evaluation of Deep Active Learning on Image Classification Tasks     [5, 5, 5, 7]       5.50\n",
            "15    https://openreview.net/forum?id=ITPhz-cfLa                                                                                                                                                           Unpuzzle Dataset Bias     [5, 7, 5, 5]       5.50\n",
            "135  https://openreview.net/forum?id=W61-FbZW1zT                                                                   The TalkMoves Dataset: K-12 mathematics lesson transcripts annotated for teacher and student discursive moves     [5, 5, 6, 6]       5.50\n",
            "134   https://openreview.net/forum?id=OMfGWkb69j                                                                                                                                        The CLRS Algorithmic Reasoning Benchmark        [5, 5, 6]       5.33\n",
            "43   https://openreview.net/forum?id=iG0JGZj7F2-                                                                                                                       A Benchmark for Low-Switching-Cost Reinforcement Learning        [3, 7, 6]       5.33\n",
            "16   https://openreview.net/forum?id=i9XYDrUJYyP                                                                 Assessing reasoning and world knowledge of large language models using questionized counterfactual conditionals        [5, 5, 6]       5.33\n",
            "132   https://openreview.net/forum?id=KJGC-KdD_k                                                                                        M5Product: A Multi-modal Pretraining Benchmark for E-commercial Product Downstream Tasks        [7, 5, 4]       5.33\n",
            "165  https://openreview.net/forum?id=CFSPQIJjPkf                                                                                                                         TruthfulQA: Measuring How Models Mimic Human Falsehoods        [7, 4, 5]       5.33\n",
            "151   https://openreview.net/forum?id=JYepcqD6Km                                                                                                                                         Sanity Simulations for Saliency Methods        [5, 6, 5]       5.33\n",
            "8    https://openreview.net/forum?id=EfgNF5-ZAjM                                                                                                                   STAR: A Benchmark for Situated Reasoning in Real-World Videos     [5, 5, 6, 5]       5.25\n",
            "61   https://openreview.net/forum?id=OqPBtOcFJt-                                                                                       A Semi-Synthetic Dataset Generation Framework for Causal Inference in Recommender Systems     [5, 6, 5, 5]       5.25\n",
            "244  https://openreview.net/forum?id=A1yBi6zg3_C                                                                                                        MOTIF: A Large Malware Reference Dataset with Ground Truth Family Labels     [6, 6, 4, 5]       5.25\n",
            "120  https://openreview.net/forum?id=7TTexcUPlwx                                                                                                                    SEOSS-Queries - a Dataset for Querying Software Repositories     [5, 5, 5, 6]       5.25\n",
            "146   https://openreview.net/forum?id=XeewlVNW5T                                                                                                  PeopleSansPeople: A Synthetic Data Generator for Human-Centric Computer Vision     [7, 5, 5, 4]       5.25\n",
            "107  https://openreview.net/forum?id=fzAi0hfQYyr                                                                                                                             NightSkyUCP: A video dataset of celestial phenomena     [5, 6, 5, 5]       5.25\n",
            "164  https://openreview.net/forum?id=-OFOwaDriw7                                                                                            Scalable Data Annotation Pipeline for High-Quality Large Speech Datasets Development     [8, 6, 4, 3]       5.25\n",
            "210  https://openreview.net/forum?id=c0psj-rpDZm                                                                                                       Chartalist: Labeled Graph Datasets for UTXO and Account based blockchains     [5, 6, 5, 5]       5.25\n",
            "161  https://openreview.net/forum?id=r6Nfwr__X4S                                                                                                SPEED+: Next Generation Dataset for Spacecraft Pose Estimation across Domain Gap     [5, 6, 5, 5]       5.25\n",
            "155  https://openreview.net/forum?id=MzpyMm92L_a                                                                                                                  ComSum: Commit Messages Summarization and Meaning Preservation     [4, 5, 7, 5]       5.25\n",
            "76    https://openreview.net/forum?id=CcJm78Nyjj                                                                                                 A Case for Domain Expert Dataset Curation in Machine-Learning Enabled Chemistry     [7, 7, 5, 2]       5.25\n",
            "58   https://openreview.net/forum?id=uAQiKVEM3Um                                                                                                                          SyRa: Synthesized Rain Images for Deraining Algorithms     [5, 4, 5, 7]       5.25\n",
            "198  https://openreview.net/forum?id=ktDj4pbRfmd                                                                                              ASR-GLUE: A New Multi-task Benchmark for ASR-Robust Natural Language Understanding     [6, 5, 6, 4]       5.25\n",
            "212  https://openreview.net/forum?id=v1W1ndgFMEv                                                                                       OpenABC-D: A Large-Scale Dataset For Machine Learning Guided Integrated Circuit Synthesis  [7, 4, 5, 3, 7]       5.20\n",
            "157  https://openreview.net/forum?id=IDPvatP6fo1                                                                                                             The Problem of Zombie Datasets:A Framework For Deprecating Datasets  [6, 2, 5, 8, 5]       5.20\n",
            "66   https://openreview.net/forum?id=gWsda7XH08Q                                                                                                                                    Egocentric Prediction of Action Target in 3D        [6, 5, 4]       5.00\n",
            "17   https://openreview.net/forum?id=9jkFflx6Q6U                                                                                                                               Towards Open Benchmarking for Recommender Systems     [6, 5, 5, 4]       5.00\n",
            "183  https://openreview.net/forum?id=1cF8dLpRLy4                                                                                                                            GitTables: A Large-Scale Corpus of Relational Tables        [6, 6, 3]       5.00\n",
            "207   https://openreview.net/forum?id=jg8jjEFsbI                                                                                            LassoBench: A High-Dimensional Hyperparameter Optimization Benchmark Suite for Lasso        [5, 5, 5]       5.00\n",
            "87   https://openreview.net/forum?id=ECKimM86ZWY                                                                   RadFusion: Benchmarking Performance and Fairness for Multi-Modal Pulmonary Embolism Detection from CT and EMR     [7, 5, 4, 4]       5.00\n",
            "225  https://openreview.net/forum?id=6nblryHxVbO                                                                                    WildfireDB: An Open-Source Dataset Connecting Wildfire Occurrence with Relevant Determinants        [7, 4, 4]       5.00\n",
            "220  https://openreview.net/forum?id=b5dYJi12XQL                                                                                                                                 New Zealand Open Environmental Science Datasets        [5, 7, 3]       5.00\n",
            "37    https://openreview.net/forum?id=m5jR6aiucD                                                                                                          MEDIC: A Multi-Task Learning Dataset for Disaster Image Classification        [4, 5, 6]       5.00\n",
            "59   https://openreview.net/forum?id=iTzsbnFOHNl                                                                                                     Codabench: Flexible, Easy-to-Use and Reproducible Benchmarking for Everyone        [5, 4, 6]       5.00\n",
            "46   https://openreview.net/forum?id=GsbN7lT0uwi                                                                                                  SRViP: A Video Benchmark for Person Re-Identification with Changes of Clothing        [5, 4, 6]       5.00\n",
            "237  https://openreview.net/forum?id=FjbDMIKpvBR                                                                                                           BEAMetrics: A Benchmark for Language Generation Evaluation Evaluation     [4, 5, 6, 5]       5.00\n",
            "13    https://openreview.net/forum?id=DRAywM1BhU                                                                                           From Raw to Logit: Addressing ISP-Induced Camera Hardware-Drift Using Raw Sensor Data     [4, 6, 2, 8]       5.00\n",
            "71   https://openreview.net/forum?id=pRH2zaAD0_w                                                                                                RescueNet: A High Resolution Post Disaster UAV Dataset for Semantic Segmentation     [4, 5, 6, 5]       5.00\n",
            "12    https://openreview.net/forum?id=_o888-oqW8                                                                                  FooDI-ML: a large multi-language dataset of food, drinks and groceries images and descriptions     [5, 5, 5, 5]       5.00\n",
            "70   https://openreview.net/forum?id=7JgRIMyw1wy                                                                                                                             Robustness Disparities in Commercial Face Detection     [5, 4, 5, 6]       5.00\n",
            "101   https://openreview.net/forum?id=sOLdMFkQe7                                                               MuMiN: A Large-Scale Multilingual Multimodal Fact-Checked Misinformation Dataset with Linked Social Network Posts     [5, 6, 5, 4]       5.00\n",
            "247  https://openreview.net/forum?id=iOg7K5t5vhy                                                                                                                                  On Quantitative Evaluations of Counterfactuals        [6, 5, 4]       5.00\n",
            "64   https://openreview.net/forum?id=82aiARNTMgq                                                                                           GeoGail: A Model-based Imitation Learning Framework for Human Trajectory Synthesizing  [5, 4, 6, 4, 6]       5.00\n",
            "251  https://openreview.net/forum?id=oQ0YvXWJt2y                                                                                                             ExpMRC: Explainability Evaluation for Machine Reading Comprehension        [6, 5, 4]       5.00\n",
            "191  https://openreview.net/forum?id=TXGN-5Zw28l                                                                                                                               WebQA: Multihop and Multimodal Question Answering        [6, 4, 5]       5.00\n",
            "22   https://openreview.net/forum?id=C7g6QgAWOcB                                                                                               RuDar: Weather Radar Dataset with Variety of Geographical and Climatic Conditions     [4, 5, 6, 5]       5.00\n",
            "214   https://openreview.net/forum?id=ZQU6vaAds0                                                                                            Challenging America: Digitized Newspapers as a Source of Machine Learning Challenges     [5, 7, 3, 4]       4.75\n",
            "253  https://openreview.net/forum?id=eZVJTpDJxyj                                                                     Benchmarking Online Sequence-to-Sequence and Character-based Handwriting Recognition from IMU-Enhanced Pens     [4, 5, 4, 6]       4.75\n",
            "91   https://openreview.net/forum?id=Xpid56aKUrU                                                                                   YAHPO Gym - Design Criteria and a new Multifidelity Benchmark for Hyperparameter Optimization     [5, 5, 5, 4]       4.75\n",
            "74    https://openreview.net/forum?id=qThMQ1055c                                                                                                            PRMI: A Dataset of Minirhizotron Images for Diverse Plant Root Study     [4, 6, 3, 6]       4.75\n",
            "201   https://openreview.net/forum?id=f4dDyo9Egv                                                                                   NASAdat: Satellite Data for Biosurveillance and Machine Learning Applications for Social Good     [5, 3, 4, 7]       4.75\n",
            "10   https://openreview.net/forum?id=L4Vlf_mHMDk                                                                                                         CBLUE: A Chinese Biomedical Language Understanding Evaluation Benchmark     [6, 7, 5, 1]       4.75\n",
            "114  https://openreview.net/forum?id=uXvXAFruVHL                                                                                            Benchmarking Context Factor Generalizability in Spatiotemporal Crowd Flow Prediction        [4, 6, 4]       4.67\n",
            "133  https://openreview.net/forum?id=CIN8FUBvahS                                                                                                           NeoRL: A Near Real-World Benchmark for Offline Reinforcement Learning        [4, 6, 4]       4.67\n",
            "14   https://openreview.net/forum?id=KE6AxxL4NvI                                                                                                     MATE: A Multi-Agent Tracking Environment for Multi-Agent Learning Benchmark        [4, 5, 5]       4.67\n",
            "236  https://openreview.net/forum?id=rEDBne7u46O                                                                                                                       The VVAD-LRS3 Dataset for Visual Voice Activity Detection        [5, 5, 4]       4.67\n",
            "67   https://openreview.net/forum?id=HnYKIsKTi2-                                                                                                  Crowd-MIA: A Crowdsourced Dataset for Multi-grained Weakly Supervised Learning        [5, 4, 5]       4.67\n",
            "213  https://openreview.net/forum?id=DDDodtPd1ns                                                                                                    RealCity3D: A Large-scale Georeferenced 3D ShapeDataset of Real-world Cities        [5, 5, 4]       4.67\n",
            "94   https://openreview.net/forum?id=p1BHSygM4EK                                                                                                                                 USB: Universal-Scale Object Detection Benchmark        [5, 5, 4]       4.67\n",
            "195  https://openreview.net/forum?id=Ldbwg9V35AH                                                                                          VoxelScape: Large Scale Simulated 3D Point Cloud Dataset of Urban Traffic Environments        [5, 4, 5]       4.67\n",
            "192  https://openreview.net/forum?id=m8Yi4usZchK                                                                                                                                         GrowSpace: Learning How to Shape Plants        [5, 5, 4]       4.67\n",
            "216  https://openreview.net/forum?id=bKMhcDFsTo2                                                                                                 SHIFT15M: Multiobjective Large-Scale Fashion Dataset with Distributional Shifts     [4, 5, 4, 5]       4.50\n",
            "104  https://openreview.net/forum?id=jX-eYSabMP5                                                                                                              BERTified Word Senses: A Dense High-Dimensional Clustering Dataset     [4, 6, 4, 4]       4.50\n",
            "150  https://openreview.net/forum?id=J38EOWe9tRK                                                                                                                  ACNet: Dataset and Benchmark for Analog Circuit Graph Learning     [4, 5, 5, 4]       4.50\n",
            "232  https://openreview.net/forum?id=zmxG97rYwfF                                                                                              PhAQ: Intuitive Physics Question Answering for Multi-Modal Neural Network Training     [5, 5, 4, 4]       4.50\n",
            "197  https://openreview.net/forum?id=r4TSRUDRonu                                                                                                                                                           The Benchmark Lottery     [6, 4, 4, 4]       4.50\n",
            "3     https://openreview.net/forum?id=gd30VUMyfu                                                    Amirkabir campus dataset: Real-world challenges and scenarios of Visual Inertial Odometry (VIO) for visually impaired people        [7, 3, 3]       4.33\n",
            "222  https://openreview.net/forum?id=1L_WZ-Zd4qY                                                                                     GrapHiC - A Python library for creating bespoke graph datasets from Hi-C & Multi-omics data        [5, 6, 2]       4.33\n",
            "63   https://openreview.net/forum?id=R2BOe3boP6s                                                                                                                    LUMINOUS: Indoor Scene Generation for Embodied AI Challenges        [5, 5, 3]       4.33\n",
            "238  https://openreview.net/forum?id=2sUCgLg1ORz                                                                                                          Benchmarking the Accuracy and Robustness of Feedback Alignment Methods        [4, 6, 3]       4.33\n",
            "7     https://openreview.net/forum?id=6Lk5a9ID3d                                                                                        EEG4Home: a Dataset Non-expert End-users Collected at Home for Multi-task Classification     [4, 4, 4, 5]       4.25\n",
            "140  https://openreview.net/forum?id=iSGC3zTlaqz                                                                                                             DAPT 2021: A Semi-Synthetic Dataset for Advanced Persistent Threats     [7, 3, 3, 4]       4.25\n",
            "199  https://openreview.net/forum?id=0yn2SfA5jYD                                                                                     Premise-based Multimodal Reasoning: Conditional Inference on Joint Textual and Visual Clues     [5, 4, 4, 4]       4.25\n",
            "38   https://openreview.net/forum?id=wD0cdy8jP4B                                                                                                          fairbench: An Open Benchmark for Fair Machine Learning on Tabular Data     [4, 4, 4, 5]       4.25\n",
            "230  https://openreview.net/forum?id=Sbf9j9WcAkk                                                                                    NewsTent: Arabic Text Summarization Dataset of 8 Million Arabic News Articles with Summaries  [4, 5, 4, 5, 3]       4.20\n",
            "204  https://openreview.net/forum?id=UdQSF6tDNF2                                                                            A Data Set for Finding the Correct Labour Inspection Checklists to Ensure Human Safety in Workplaces        [3, 5, 4]       4.00\n",
            "169  https://openreview.net/forum?id=ipRfG6Y9jJS                                                                                                            HeadlineCause: A Dataset of News Headlines for Detecting Causalities     [4, 4, 4, 4]       4.00\n",
            "178  https://openreview.net/forum?id=S1K1Hg7eOjV                                                                                                                        DVCD18K: A Drone Video Clip Dataset and Its Applications     [4, 4, 4, 4]       4.00\n",
            "5    https://openreview.net/forum?id=HRO5wFBDKLe                                                                                                        Visual Question Answering Across Varying Object Co-occurrences in Scenes     [5, 5, 3, 3]       4.00\n",
            "50    https://openreview.net/forum?id=BQ2pETYbod                                                                                                                                 D'Oh! Learn NLP with the Simpsons Wiki Data Set     [5, 3, 4, 4]       4.00\n",
            "240  https://openreview.net/forum?id=Kzbt4Yxfq4D                                                                                               The Cross-environment Hyperparameter Setting Benchmark for Reinforcement Learning     [4, 5, 4, 2]       3.75\n",
            "205  https://openreview.net/forum?id=JlxIraL1X9e                                                                                          Oh My Mistake!: Toward Realistic Dialogue State Tracking including Turnback Utterances     [4, 4, 3, 4]       3.75\n",
            "233  https://openreview.net/forum?id=zeKnb6gkekp                                                     DepreST-CAT: Leveraging Smartphone Call and Text Logs Collected During the COVID-19 Pandemic to Screen for Mental Illnesses        [4, 3, 4]       3.67\n",
            "211  https://openreview.net/forum?id=mqpjGGV7_K5                                                                                                             A Dataset of Customer Complaint Handling for Catering Service Agent        [3, 5, 3]       3.67\n",
            "249   https://openreview.net/forum?id=w_u5lXTZn5                                                                                     StudentSADD: Depression and Suicidal Ideation Screening of College Students during COVID-19     [3, 4, 4, 3]       3.50\n",
            "221   https://openreview.net/forum?id=iVHby79PGv                                                                    Extended Agriculture-Vision: A Large Aerial Image Dataset for Agricultural Pattern Analysis and Pre-Training     [5, 3, 3, 3]       3.50\n",
            "229  https://openreview.net/forum?id=ch2aMVK_eU3                                                                                                                        EnTube: A dataset for YouTube video engagement analytics     [3, 5, 4, 2]       3.50\n",
            "208  https://openreview.net/forum?id=MqtdG7-JMZ_                                                                                  Learning Individual and Collective Priorities over Moral Dilemmas with the Life Jacket Dataset     [4, 4, 3, 2]       3.25\n",
            "200  https://openreview.net/forum?id=AvV-CiGN_bx                                                                                               E-MMAD: Multimodal Advertising Generation Dataset Based on Structured Information     [3, 4, 3, 3]       3.25\n",
            "248  https://openreview.net/forum?id=qFkAyFTRFf5                                                                                                                  Testing machine learning benchmarks using item response theory     [3, 4, 2, 3]       3.00\n"
          ]
        }
      ]
    },
    {
      "cell_type": "code",
      "metadata": {
        "id": "_2nmWgXdh02g"
      },
      "source": [
        ""
      ],
      "execution_count": 5,
      "outputs": []
    },
    {
      "cell_type": "code",
      "metadata": {
        "id": "YlqkUgdb7M30",
        "colab": {
          "base_uri": "https://localhost:8080/"
        },
        "outputId": "c50c2e80-96e4-4b02-f3d9-f144e475a41f"
      },
      "source": [
        "len(df)"
      ],
      "execution_count": 9,
      "outputs": [
        {
          "output_type": "execute_result",
          "data": {
            "text/plain": [
              "254"
            ]
          },
          "metadata": {},
          "execution_count": 9
        }
      ]
    },
    {
      "cell_type": "code",
      "metadata": {
        "id": "B2zjDCwR7831",
        "colab": {
          "base_uri": "https://localhost:8080/"
        },
        "outputId": "c240ab58-0c95-4118-c3a0-809fc3d39dbb"
      },
      "source": [
        "df.index.get_loc(48)"
      ],
      "execution_count": 7,
      "outputs": [
        {
          "output_type": "execute_result",
          "data": {
            "text/plain": [
              "55"
            ]
          },
          "metadata": {},
          "execution_count": 7
        }
      ]
    },
    {
      "cell_type": "code",
      "metadata": {
        "id": "QQrPrOZquPuK",
        "colab": {
          "base_uri": "https://localhost:8080/"
        },
        "outputId": "04fa3ae4-4b33-4be9-ed1b-fa0084fe46ea"
      },
      "source": [
        "89/154"
      ],
      "execution_count": 8,
      "outputs": [
        {
          "output_type": "execute_result",
          "data": {
            "text/plain": [
              "0.577922077922078"
            ]
          },
          "metadata": {},
          "execution_count": 8
        }
      ]
    },
    {
      "cell_type": "code",
      "metadata": {
        "id": "7WrCPDjjC8rY"
      },
      "source": [
        ""
      ],
      "execution_count": 8,
      "outputs": []
    }
  ]
}